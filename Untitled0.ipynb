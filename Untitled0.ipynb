{
  "nbformat": 4,
  "nbformat_minor": 0,
  "metadata": {
    "colab": {
      "name": "Untitled0.ipynb",
      "provenance": [],
      "mount_file_id": "1nlqft_rZWFaTZW-v40HQUbwNFs2_kfdI",
      "authorship_tag": "ABX9TyMgkybcEgnbqooP0n6/SWl3",
      "include_colab_link": true
    },
    "kernelspec": {
      "display_name": "Python 3",
      "name": "python3"
    }
  },
  "cells": [
    {
      "cell_type": "markdown",
      "metadata": {
        "id": "view-in-github",
        "colab_type": "text"
      },
      "source": [
        "<a href=\"https://colab.research.google.com/github/suralmasha/cohesion-level-determinant-/blob/main/Untitled0.ipynb\" target=\"_parent\"><img src=\"https://colab.research.google.com/assets/colab-badge.svg\" alt=\"Open In Colab\"/></a>"
      ]
    },
    {
      "cell_type": "code",
      "metadata": {
        "id": "iwNsAwldrTuR"
      },
      "source": [
        "import pandas as pd\n",
        "import re\n",
        "\n",
        "import nltk\n",
        "nltk.download('stopwords')\n",
        "from nltk.corpus import stopwords\n",
        "\n",
        "!pip3 install pymorphy2\n",
        "!pip3 install pymorphy2-dicts\n",
        "!pip3 install DAWG-Python\n",
        "\n",
        "from pymorphy2 import MorphAnalyzer\n",
        "\n",
        "!pip install google-ngram-downloader\n",
        "\n",
        "from google_ngram_downloader import readline_google_store\n"
      ],
      "execution_count": null,
      "outputs": []
    },
    {
      "cell_type": "code",
      "metadata": {
        "id": "PYUTvSiZAkfm"
      },
      "source": [
        "from google.colab import files\n",
        "uploaded = files.upload()\n",
        "for fn in uploaded.keys():\n",
        "  print('User uploaded file «{name}» with length {length} bytes'.\n",
        "        format(name=fn, length=len(uploaded[fn])))"
      ],
      "execution_count": null,
      "outputs": []
    },
    {
      "cell_type": "markdown",
      "metadata": {
        "id": "2bdqOKoGq-G4"
      },
      "source": [
        "Читаем файл с данными в табличном виде (создаем дата фрейм)"
      ]
    },
    {
      "cell_type": "code",
      "metadata": {
        "id": "C4kqqu_lsdsJ"
      },
      "source": [
        "#data = pd.read_table('test_data.csv', encoding = 'utf-8', dtype=\"string\")\n",
        "data = pd.read_table('resampled_train_50_diff.csv', encoding = 'utf-8')\n",
        "data.head()"
      ],
      "execution_count": null,
      "outputs": []
    },
    {
      "cell_type": "markdown",
      "metadata": {
        "id": "AH199eJNrMCn"
      },
      "source": [
        "Удаляем лишние пробелы"
      ]
    },
    {
      "cell_type": "code",
      "metadata": {
        "id": "d_ksCUirm3eg"
      },
      "source": [
        "for i, row in data.iterrows():\n",
        "  re.sub(r'\\s\\s', '', row[0])"
      ],
      "execution_count": 14,
      "outputs": []
    },
    {
      "cell_type": "markdown",
      "metadata": {
        "id": "vxxHwBkkrZUD"
      },
      "source": [
        "Находим среднюю, минимальную и максимальную длину транскрипций, а также создаем столбик `\"text_len\"`, в котором будет отбражаться длина каждой транскрипции"
      ]
    },
    {
      "cell_type": "code",
      "metadata": {
        "id": "pQODqEfZ2LOf"
      },
      "source": [
        "data['text_len'] = 0\n",
        "len_list = []\n",
        "sum_len = 0\n",
        "quantity = 0\n",
        "for i, row in data.iterrows():\n",
        "    text_len = len(row[0].split())\n",
        "    data.loc[(i,'text_len')] = text_len\n",
        "    len_list.append(text_len)\n",
        "    sum_len += text_len\n",
        "    quantity += 1\n",
        "\n",
        "mean_len = sum_len / quantity\n",
        "print(f'MEAN LEN = {round(mean_len, 2)}\\nMIN LEN = {min(len_list)}\n",
        "      \\nMAX LEN = {max(len_list)}')"
      ],
      "execution_count": null,
      "outputs": []
    },
    {
      "cell_type": "markdown",
      "metadata": {
        "id": "b2hIRH-erspz"
      },
      "source": [
        "Функция для нахождения транскрипций с английскими буквами и некоторыми символами"
      ]
    },
    {
      "cell_type": "code",
      "metadata": {
        "id": "x2Rabwsrsd-b"
      },
      "source": [
        "def remove_eng_words(text: tuple) -> int:\n",
        "    labels = []\n",
        "    open_words = ['sms', '3g', 'telegram', '4g', 'tele2', 'youtube', \n",
        "                  'whatsapp', 'instagram', 'yota', 'wi-fi', 'play', 'boom',\n",
        "                  'market', 'google', 'tiktok', 'apple', 'bluetooth']\n",
        "    for word in text:\n",
        "      if word not in open_words:\n",
        "        if re.search(r'[^a-zA-Z#?]', word):\n",
        "            labels.append(1)\n",
        "        else:\n",
        "            labels.append(0)\n",
        "    if 0 in labels:\n",
        "        return 0  # есть англ. слова\n",
        "    else:\n",
        "        return 1  # нет англ. слов"
      ],
      "execution_count": 139,
      "outputs": []
    },
    {
      "cell_type": "markdown",
      "metadata": {
        "id": "xaQHMWFnr2_o"
      },
      "source": [
        "Функция для удаления стоп-слов\n"
      ]
    },
    {
      "cell_type": "code",
      "metadata": {
        "id": "9MOTjhxZseB7"
      },
      "source": [
        "stop_words = stopwords.words('russian')\n",
        "\n",
        "\n",
        "def remove_stop_words(text: tuple) -> tuple:\n",
        "    clean_text = [word for word in text if word not in stop_words]\n",
        "    return tuple(clean_text)"
      ],
      "execution_count": null,
      "outputs": []
    },
    {
      "cell_type": "markdown",
      "metadata": {
        "id": "pe24mbt5sFnN"
      },
      "source": [
        "Функция для лемматизации"
      ]
    },
    {
      "cell_type": "code",
      "metadata": {
        "id": "TNhsSAgSseI5"
      },
      "source": [
        "morph = MorphAnalyzer()\n",
        "\n",
        "\n",
        "def lemmatize(text: tuple) -> tuple:\n",
        "    tokens = []\n",
        "    for token in text:\n",
        "        token = morph.normal_forms(token)[0]\n",
        "        tokens.append(token)\n",
        "\n",
        "    return tuple(tokens)\n"
      ],
      "execution_count": null,
      "outputs": []
    },
    {
      "cell_type": "markdown",
      "metadata": {
        "id": "-UgszopTsO0C"
      },
      "source": [
        "Создаем класс `NGramTrie` для создания и хранения N-грамм"
      ]
    },
    {
      "cell_type": "code",
      "metadata": {
        "id": "dJWpbwE1LKgp"
      },
      "source": [
        "class NGramTrie:\n",
        "\n",
        "    def __init__(self, n: int):\n",
        "        self.size = n\n",
        "        self.n_grams = ()\n",
        "        self.n_gram_frequencies = {}\n",
        "        self.n_gram_log_probabilities = {}\n",
        "\n",
        "    def fill_n_grams(self, text: tuple) -> int:\n",
        "        \"\"\"\n",
        "        Extracts n-grams from the given sentence, fills the field n_grams\n",
        "        :return: 0 if succeeds, 1 if not\n",
        "        \"\"\"\n",
        "        if not isinstance(text, tuple):\n",
        "            return 1\n",
        "\n",
        "        list_n_grams = []\n",
        "\n",
        "        if self.n_grams:\n",
        "          for n_gram in self.n_grams:\n",
        "            list_n_grams.append(n_gram)\n",
        "        \n",
        "        if len(text) < self.size:\n",
        "          add = self.size - len(text)\n",
        "          text = tuple(('_ ' * add + ' '.join(text)).split())\n",
        "\n",
        "        for ind in range(len(text) - self.size + 1):\n",
        "          list_n_grams.append(tuple(text[ind:ind + self.size]))\n",
        "\n",
        "        self.n_grams = tuple(list_n_grams)\n",
        "        return 0"
      ],
      "execution_count": 18,
      "outputs": []
    },
    {
      "cell_type": "markdown",
      "metadata": {
        "id": "0H82f6RWswMs"
      },
      "source": [
        "Скачиваем N-граммы от Google"
      ]
    },
    {
      "cell_type": "code",
      "metadata": {
        "id": "DIXU1X2dnw9l"
      },
      "source": [
        "fname, url, records = next(readline_google_store(ngram_len=2, lang='rus'))\n",
        "\n",
        "google_standard_n_grams = []\n",
        "for bigram in records:\n",
        "  if 'NUM' not in bigram.ngram:\n",
        "    google_standard_n_grams.append(bigram.ngram)\n",
        "  "
      ],
      "execution_count": null,
      "outputs": []
    },
    {
      "cell_type": "code",
      "metadata": {
        "id": "-4Aw9OSdS7kS"
      },
      "source": [
        "# заранее подготовленный док\n",
        "!pip install python-docx\n",
        "\n",
        "import docx\n",
        "\n",
        "doc = docx.Document('stand_data.docx')\n",
        "doc_standard = NGramTrie(2)\n",
        "for para in doc.paragraphs:\n",
        "  text = lemmatize(tuple((para.text).split()))\n",
        "  doc_standard.fill_n_grams(text)"
      ],
      "execution_count": null,
      "outputs": []
    },
    {
      "cell_type": "markdown",
      "metadata": {
        "id": "kEqUXgSCs8TD"
      },
      "source": [
        "Создаем столбик `\"label\"`"
      ]
    },
    {
      "cell_type": "code",
      "metadata": {
        "id": "awhXXCw7FzFR"
      },
      "source": [
        "data['label'] = ''"
      ],
      "execution_count": 141,
      "outputs": []
    },
    {
      "cell_type": "code",
      "metadata": {
        "id": "XalJxk-N_7Qt"
      },
      "source": [
        "for i, row in data.iterrows():\n",
        "  if remove_eng_words(tuple(row[0].split())) == 0:\n",
        "    data.loc[i, 'label'] = 'unsutable'\n",
        "  else:\n",
        "    data.loc[i, 'label'] = 'sutable'"
      ],
      "execution_count": 142,
      "outputs": []
    },
    {
      "cell_type": "code",
      "metadata": {
        "id": "nmpTWI0AFnE5"
      },
      "source": [
        "for i, row in data.iterrows():\n",
        "  if data.loc[i, 'label'] == 'sutable':\n",
        "    text = row[0].split()\n",
        "    for id, word in enumerate(text):\n",
        "      p = morph.parse(word)[0]\n",
        "      teg = p.tag.POS\n",
        "      if id != len(text) - 1:\n",
        "        if word == text[id + 1]:\n",
        "          if teg != 'PRCL':\n",
        "            data.loc[i, 'label'] = 'unsutable'       "
      ],
      "execution_count": 143,
      "outputs": []
    },
    {
      "cell_type": "code",
      "metadata": {
        "id": "2gX6MGO5pNpa"
      },
      "source": [
        "data['percentage'] = 0.0\n",
        "\n",
        "for i, row in data.iterrows():\n",
        "  if data.loc[i, 'label'] == 'sutable':\n",
        "    \n",
        "    if data.loc[i, 'text_len'] == 1:\n",
        "      data.loc[i, 'percentage'] = 100.0\n",
        "      \n",
        "    else:\n",
        "      text = lemmatize(tuple(row[0].split()))\n",
        "      bigrams = NGramTrie(2)\n",
        "      bigrams.fill_n_grams(text)\n",
        "      numerator = 0\n",
        "      \n",
        "      for bigram in bigrams.n_grams:\n",
        "        if bigram in doc_standard.n_grams:\n",
        "          numerator += 1\n",
        "      data.loc[i, 'percentage'] = numerator * 100 / len(bigrams.n_grams)        \n"
      ],
      "execution_count": 144,
      "outputs": []
    },
    {
      "cell_type": "markdown",
      "metadata": {
        "id": "IklpXUKftQ1Y"
      },
      "source": [
        "Вычисляем среднее процентное значение для всех транскрипций"
      ]
    },
    {
      "cell_type": "code",
      "metadata": {
        "id": "8HzkMGVVexKW"
      },
      "source": [
        "p = 0\n",
        "count = 0\n",
        "for i, row in data.iterrows():\n",
        "  p += data.loc[i,'percentage']\n",
        "\n",
        "print(p/112899)"
      ],
      "execution_count": null,
      "outputs": []
    },
    {
      "cell_type": "code",
      "metadata": {
        "id": "Zwtdtn8Jmmxd"
      },
      "source": [
        "all = 0\n",
        "for i, row in data.iterrows():\n",
        "  if data.loc[i, 'percentage'] >= 33.3 and data.loc[i, 'percentage'] < 34:\n",
        "    # print(row[0], data.loc[i, 'percentage'])\n",
        "    all += 1\n",
        "\n",
        "print(all)"
      ],
      "execution_count": null,
      "outputs": []
    },
    {
      "cell_type": "markdown",
      "metadata": {
        "id": "qOh0hQlHtayb"
      },
      "source": [
        "Устанавливаем нижнюю границу для транскрипций с лейблом `\"sutable\"`"
      ]
    },
    {
      "cell_type": "code",
      "metadata": {
        "id": "qjdG_7w8wg55"
      },
      "source": [
        "for i, row in data.iterrows():\n",
        "  if data.loc[i, 'label'] == 'sutable':\n",
        "    if data.loc[i, 'percentage'] < 33.4:\n",
        "      data.loc[i, 'label'] = 'unsutable'"
      ],
      "execution_count": 146,
      "outputs": []
    },
    {
      "cell_type": "code",
      "metadata": {
        "colab": {
          "base_uri": "https://localhost:8080/"
        },
        "id": "uAxD2EJDsqkF",
        "outputId": "304ffccb-63f8-44e5-c462-eeb5c51e281c"
      },
      "source": [
        "data['label'].value_counts()"
      ],
      "execution_count": 147,
      "outputs": [
        {
          "output_type": "execute_result",
          "data": {
            "text/plain": [
              "sutable      79531\n",
              "unsutable    33367\n",
              "Name: label, dtype: int64"
            ]
          },
          "metadata": {
            "tags": []
          },
          "execution_count": 147
        }
      ]
    },
    {
      "cell_type": "code",
      "metadata": {
        "id": "PK2QhvAnhmpq"
      },
      "source": [
        "# присваиваем бинарные значения\n",
        "data['b_label'] = data['label'].map({'unsutable': 0, 'sutable': 1})\n",
        "\n",
        "data.head()"
      ],
      "execution_count": null,
      "outputs": []
    },
    {
      "cell_type": "code",
      "metadata": {
        "id": "33XWiqIyjfJT"
      },
      "source": [
        "from sklearn.feature_extraction.text import TfidfVectorizer, CountVectorizer            \n",
        "from sklearn.model_selection import train_test_split\n",
        "from sklearn.naive_bayes import MultinomialNB"
      ],
      "execution_count": null,
      "outputs": []
    },
    {
      "cell_type": "code",
      "metadata": {
        "id": "paqnP-kyhkeG"
      },
      "source": [
        "Y = data['b_label'].values\n",
        "# разделяем тренировочную и тестовую выборки в пропорции 70/30\n",
        "data_train, data_test, Ytrain, Ytest = train_test_split(data['human_text'], \n",
        "                                                        Y, test_size=0.30)"
      ],
      "execution_count": null,
      "outputs": []
    },
    {
      "cell_type": "code",
      "metadata": {
        "colab": {
          "base_uri": "https://localhost:8080/"
        },
        "id": "qlTYYaP2hkHk",
        "outputId": "c88aabc4-8176-4be3-f1f9-8b63149d4fa1"
      },
      "source": [
        "# с помощью модели TfidfVectorizer создаем матрицу признаков X\n",
        "tfidf_1 = TfidfVectorizer(decode_error='ignore') \n",
        "Xtrain_1 = tfidf_1.fit_transform(data_train)\n",
        "Xtest_1 = tfidf_1.transform(data_test)\n",
        "\n",
        "# создаём модель на основе наивного байесовского классификатора, использующую \n",
        "# данные из tfidf, смотрим на результат\n",
        "model_1 = MultinomialNB()\n",
        "model_1.fit(Xtrain_1, Ytrain)\n",
        "print(\"train score:\", model_1.score(Xtrain_1, Ytrain))\n",
        "print(\"test score:\", model_1.score(Xtest_1, Ytest))\n"
      ],
      "execution_count": null,
      "outputs": [
        {
          "output_type": "stream",
          "text": [
            "train score: 0.9929012501898061\n",
            "test score: 0.9929731325656923\n"
          ],
          "name": "stdout"
        }
      ]
    },
    {
      "cell_type": "code",
      "metadata": {
        "colab": {
          "base_uri": "https://localhost:8080/"
        },
        "id": "xvS4GZdlib49",
        "outputId": "d236b47a-b0e9-4fcb-b593-96fcfe4687a0"
      },
      "source": [
        "# повторяем то же самое, но с использованием модели CountVectorizer для \n",
        "# сравнения результатов\n",
        "tfidf_2 = CountVectorizer(decode_error='ignore') \n",
        "Xtrain_2 = tfidf_2.fit_transform(data_train)\n",
        "Xtest_2 = tfidf_2.transform(data_test)\n",
        "\n",
        "model_2 = MultinomialNB()\n",
        "model_2.fit(Xtrain_2, Ytrain)\n",
        "print(\"train score:\", model_2.score(Xtrain_2, Ytrain))\n",
        "print(\"test score:\", model_2.score(Xtest_2, Ytest))\n",
        "\n",
        "# / статистика получилась хуже => будем использовать модель TfidfVectorizer"
      ],
      "execution_count": null,
      "outputs": [
        {
          "output_type": "stream",
          "text": [
            "train score: 0.9920281419243813\n",
            "test score: 0.9926778860348391\n"
          ],
          "name": "stdout"
        }
      ]
    },
    {
      "cell_type": "code",
      "metadata": {
        "id": "Ec2OJKYAiqR6"
      },
      "source": [
        "# создаем функцию, классифицирующую задаваемые транскрипции\n",
        "def filter(short_text):\n",
        "    examples = []\n",
        "    examples.append(short_text)\n",
        "    example_counts = tfidf_1.transform(examples)\n",
        "    predictions = model_1.predict(example_counts)\n",
        "    for i in predictions:\n",
        "        if i == 1:\n",
        "            print('sutable')\n",
        "        else:\n",
        "            print('unsutable')\n",
        "\n",
        "\n",
        "filter(input('Enter text: '))"
      ],
      "execution_count": null,
      "outputs": []
    }
  ]
}